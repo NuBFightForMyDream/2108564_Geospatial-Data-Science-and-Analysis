{
  "cells": [
    {
      "cell_type": "markdown",
      "metadata": {
        "id": "Dp5zNTfsPIDQ"
      },
      "source": [
        "# 2108564 Geospatial Data Science and Analysis\n",
        "\n"
      ]
    },
    {
      "cell_type": "markdown",
      "metadata": {
        "id": "mPVcWNIWnRlV"
      },
      "source": [
        "## รายละเอียดรายวิชา"
      ]
    },
    {
      "cell_type": "markdown",
      "metadata": {
        "id": "zCCB4tCVjHSW"
      },
      "source": [
        "&nbsp; | &nbsp;\n",
        "--- | ---\n",
        "จำนวนหน่วยกิต | 3 |\n",
        "ภาคการศึกษา/ปีการศึกษา | ต้น/2568\n",
        "อาจารย์ผู้รับผิดชอบ | ผศ.ดร.กรวิก ตนักษรานนท์\n",
        "เงื่อนไขรายวิชา  | ไม่มี\n",
        "สถานภาพของรายวิชา | วิชาเลือก\n",
        "ชื่อหลักสูตร | วิศวกรรมศาสตร์บัณฑิต และ วิศวกรรมศาสตรมหาบัณฑิต\n",
        "วิชาระดับ | ปริญญาตรี และ ปริญญาโท\n",
        "จำนวนชั่วโมงต่อสัปดาห์ | 3 (บรรยาย)\n"
      ]
    },
    {
      "cell_type": "markdown",
      "metadata": {
        "id": "jwwtGA9fjHWf"
      },
      "source": [
        "## เนื้อหาของรายวิชา\n",
        "เทคโนโลยีวิเคราะห์ข้อมูลกับสารสนเทศภูมิศาสตร์, การทำความสะอาดข้อมูล, การแสดงข้อมูล (Visualization) เพื่อการสำรวจข้อมูล (Exploratory), สถิติเชิงพื้นที่"
      ]
    },
    {
      "cell_type": "markdown",
      "metadata": {
        "id": "DoUjw812neQ4"
      },
      "source": [
        "## วัตถุประสงค์เชิงพฤติกรรม\n",
        "*      รู้จักเทคโนโลยีวิเคราะห์ข้อมูลใหม่ ๆ ที่ประยุกต์ใช้กับสารสนเทศภูมิศาสตร์ในปัจจุบัน\n",
        "\n",
        "*      อธิบายกระบวนการและเงื่อนไขในการทำความสะอาดข้อมูล (Data Wrangling) ได้\n",
        "\n",
        "*      รู้จักการใช้เครื่องมือในการทำความสะอาดข้อมูล\n",
        "\n",
        "*      รู้จักการแสดงข้อมูล (Visualization) ขั้นสูง\n",
        "\n",
        "*      สามารถอธิบายวัตถุประสงค์ และชนิดของสถิติเชิงพื้นที่ได้\n",
        "\n",
        "*      สามารถวิเคราะห์ข้อมูลเชิงพื้นที่โดยใช้สถิติได้\n"
      ]
    },
    {
      "cell_type": "markdown",
      "metadata": {
        "id": "GIPyI-Gss_kC"
      },
      "source": [
        "เรียนทุกวันอังคาร 9:30-12:30"
      ]
    },
    {
      "cell_type": "markdown",
      "metadata": {
        "id": "_cOl0vc2PL_k"
      },
      "source": [
        "\n",
        "Week | Date | Topic | Youtube video link | Colab link| งานมอบหมาย\n",
        "--- | --- | --- | --- | ---|---\n",
        "1 | 5 Aug | Introduction นัดวันเรียน ตั้งกลุ่มไลน์ จัดการ MyCourseville สร้าง Github account แนะนำ Google Colab|-|[เอกสารประกอบการสอน Pandas](https://colab.research.google.com/drive/1AN9dUfIVpBLhzBKER0Dlj2gM1mZFPoxL?usp=sharing)|1. สร้าง Colab, Github Account, Pandas|\n",
        "2 | 12 Aug | วันหยุด |\n",
        "3 | 19 Aug | Visualization using Python|-|[เอกสารประกอบการสอน visualization tools in Python](https://colab.research.google.com/drive/1DYa45aOMdMxpthMJ7Bi7SSYcQAarVouR?usp=sharing)|\n",
        "4 | 26 Aug |  GeoPandas + Folium|-|[เอกสารประกอบการสอน Folium](https://colab.research.google.com/drive/1iesdO5U3x-OkQNOctfw0bwqYEfFJ8slW?usp=sharing)<br/>[เอกสารประกอบการสอน Geopandas](https://colab.research.google.com/drive/1Cw1_rTZp4GPxv1Q9F4k8vv6ON2s_3BoR?usp=sharing)|\n",
        "5 | 2 Sep| Spatial Statistics, an Introduction|-| (เป็น powerpoint ใน mycourseville)|2.การบ้าน\n",
        "6| 9 Sep|SQL1 คำสั่ง SELECT|-|[BigQuery](https://colab.research.google.com/drive/1Or7BpO-gtySs7BOOq2l-0vhWf18ITN9g?usp=sharing) , [แบบฝึกหัด SQL](https://colab.research.google.com/drive/13WeTdmqXNmRqOESGT4-dFdr8ssyS3ETv?usp=sharing)|3.งานในชั้นเรียน\n",
        "7| 16 Sep|หยุด\n",
        "8| 23 Sep|สัปดาห์สอบกลางภาค\n",
        "9| 30 Sep|หยุดวันรับปริญญา\n",
        "10| 7 Oct|SQL2 คำสั่งกลุ่ม DML การออกแบบตาราง การเขียน ER Diagram|-|(เป็น powerpoint ใน mycourseville)|4. เขียน ER Diagram ออกแบบตาราง\n",
        "11| 14 Oct|Spatial Statistics, an Introduction|-| (เป็น powerpoint ใน mycourseville)|5.การบ้าน\n",
        "12 | 21 Oct |Centrographic Statistics (EDA for spatial data) & Point Pattern Analysis|-|[Centrographic Stat & Point Pattern Analy in Python](https://colab.research.google.com/drive/1RXf4elL5oqQRZwRsyh-BNtvAIPfvfsNj?usp=sharing)|6.กิจกรรมกลุ่ม\n",
        "13| 28 Oct |Point Pattern Analysis (cont.)|-|[Centrographic Stat & Point Pattern Analy in Python](https://colab.research.google.com/drive/1RXf4elL5oqQRZwRsyh-BNtvAIPfvfsNj?usp=sharing)|\t7.กิจกรรมกลุ่ม\n",
        "14| 4 Nov |Clustering Techniques 1|-|[Clustering](https://colab.research.google.com/drive/1mcblwwWz4iQFtJSGhe5o-S_LSe3qsdvm?usp=sharing)|8.งานในชั้นเรียน\n",
        "15| 11 Nov |Clustering Techniques 2|-|[Clustering](https://colab.research.google.com/drive/1mcblwwWz4iQFtJSGhe5o-S_LSe3qsdvm?usp=sharing)|-\n",
        "16| 18 Nov | Spatial Autocorrelation 1 (Global)|-|(เป็น powerpoint ใน mycourseville)|9.การบ้าน\n",
        "17| 25 Nov | สอบปลายภาค\n",
        "18|  |Spatial Autocorrelation 2 (Local)|-|(เป็น powerpoint ใน mycourseville)|10.การบ้าน\n",
        "19|  |Geographic Weighted Regression and Scan Statistics|-|[GWR](https://colab.research.google.com/drive/1YhYgxuLoGjjigidBqIzjfAInwSaqotwE?usp=sharing) และใน powerpoint"
      ]
    },
    {
      "cell_type": "markdown",
      "metadata": {
        "id": "PuIQeOF3OBe-"
      },
      "source": [
        "youtube playlist https://www.youtube.com/playlist?list=PL5zOXPUOwbAAKF_g4W3R7Y7K52ft5ChN6"
      ]
    },
    {
      "cell_type": "markdown",
      "metadata": {
        "id": "3U3SAOMPvvJJ"
      },
      "source": [
        "### วิธีการประเมินผล\n",
        "&nbsp; | &nbsp;\n",
        "--- | ---\n",
        "งานในชั้นเรียนและการบ้าน | 80%\n",
        "งานค้นคว้า | 20%"
      ]
    },
    {
      "cell_type": "markdown",
      "metadata": {
        "id": "vjBUxP-yxSjY"
      },
      "source": [
        "### วิธีการสอน"
      ]
    },
    {
      "cell_type": "markdown",
      "metadata": {
        "id": "o04i5qrnwXoI"
      },
      "source": [
        "&nbsp; | &nbsp;\n",
        "--- | ---\n",
        "วิธีการจัดการเรียนการสอน | การสอนแบบบรรยายออนไลน์ และบรรยายในห้อง\n",
        "สื่อการสอน | Powerpoint, VDO\n",
        "ระบบจัดการการเรียนรู้ (LMS) ที่ใช้ | MyCourseVille |\n"
      ]
    },
    {
      "cell_type": "markdown",
      "metadata": {
        "id": "uxmOeOYfxMgq"
      },
      "source": [
        "### รายชื่อหนังสืออ่านประกอบ\n",
        "- หนังสือบังคับ      ไม่มี\n",
        "\n",
        "- เอกสารอ่านประกอบ\n",
        "  *   https://gdsl-ul.github.io/san/index.html\n",
        "  *   https://pysal.org/scipy2019-intermediate-gds/stochastic/gds5-exploration\n",
        "  *   An Introduction to statistical learning by Gareth James, Daniela, Trevor Hastie, Robert Tibshirani\n",
        "  \n",
        "- เอกสารอื่น ๆ จะแจ้งให้ทราบเป็นครั้ง ๆ"
      ]
    },
    {
      "cell_type": "markdown",
      "metadata": {
        "id": "61XfEjzNyCJW"
      },
      "source": [
        "### หมายเหตุ\n",
        "* ควรเขียน python หรือภาษาอื่น ๆ เป็น\n",
        "* วิชานี้มีการบ้านทุกอาทิตย์ การบ้านคือการฝึกซ้อมให้คล่อง ใช้ให้เป็น ดังนั้นแบ่งเวลาให้ดี\n",
        "* ส่วนใหญ่จะมีงานในห้อง ขาดเรียนเกิน 2 ครั้งแนะนำให้ถอนรายวิชา\n",
        "* ไม่ลอกงาน NO Plagiarism หากตรวจพบจะได้ 0 ในส่วนนั้นทันที และหากเจอมากกว่า 2 ครั้งนิสิตจะต้องถอนรายวิชา มิฉะนั้นจะได้ F ในวิชานี้"
      ]
    },
    {
      "cell_type": "markdown",
      "metadata": {
        "id": "LbdVSRC-GvXZ"
      },
      "source": [
        "## Lecture 1 Additional : Pandas\n",
        "[Link Here](https://colab.research.google.com/drive/1JNKNHecIX1cuzV8tFp5DJK9T0TZpj3Df)"
      ]
    }
  ],
  "metadata": {
    "colab": {
      "provenance": []
    },
    "kernelspec": {
      "display_name": "Python 3",
      "name": "python3"
    },
    "language_info": {
      "name": "python"
    }
  },
  "nbformat": 4,
  "nbformat_minor": 0
}
