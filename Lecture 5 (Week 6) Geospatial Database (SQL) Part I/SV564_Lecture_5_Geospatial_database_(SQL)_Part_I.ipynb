{
  "nbformat": 4,
  "nbformat_minor": 0,
  "metadata": {
    "colab": {
      "provenance": []
    },
    "kernelspec": {
      "name": "python3",
      "display_name": "Python 3"
    }
  },
  "cells": [
    {
      "cell_type": "markdown",
      "source": [
        "# 2108564 Geospatial Data Science and Analysis\n",
        "## Lecture 5 : Geospatial Database (SQL)\n",
        "## Done By : 6730084521 Chatrphol Ovanonchai"
      ],
      "metadata": {
        "id": "P95hT7x25hHR"
      }
    },
    {
      "cell_type": "markdown",
      "metadata": {
        "id": "ixEcxDJPbGpe"
      },
      "source": [
        "# SQL\n",
        "Lecture Slides : [Link Here](https://mycourseville-default.s3.ap-southeast-1.amazonaws.com/useruploaded_course_files/2024_1/56626/materials/Database-15240-17276914815041.pdf)"
      ]
    },
    {
      "cell_type": "markdown",
      "metadata": {
        "id": "hvVbBVWZgLUr"
      },
      "source": [
        "ตัวอย่างนี้เป็นการสร้างตาราง 2 ตาราง จากตัวอย่างในเว็บ https://en.wikibooks.org/wiki/SQL_Exercises/The_computer_store"
      ]
    },
    {
      "cell_type": "markdown",
      "source": [
        "##0. เปิดใช้งาน SQLite3\n",
        "\n",
        "เปิดใช้งานโดยการสร้างไฟล์ชื่อ test.db ไว้เก็บข้อมูล"
      ],
      "metadata": {
        "id": "3eQqjx8K93yi"
      }
    },
    {
      "cell_type": "code",
      "source": [
        "%load_ext sql"
      ],
      "metadata": {
        "id": "kcgZUi_H-Box"
      },
      "execution_count": 2,
      "outputs": []
    },
    {
      "cell_type": "code",
      "source": [
        "%%sql\n",
        "sqlite:///test.db"
      ],
      "metadata": {
        "id": "EfuLUPJ6-IsI"
      },
      "execution_count": 3,
      "outputs": []
    },
    {
      "cell_type": "markdown",
      "metadata": {
        "id": "Rs6cHhaY7iNp"
      },
      "source": [
        "## 1.   สร้าง Table\n",
        "\n"
      ]
    },
    {
      "cell_type": "code",
      "metadata": {
        "id": "dfyUd1fUbFm7",
        "colab": {
          "base_uri": "https://localhost:8080/"
        },
        "outputId": "af0cf8bb-e1fd-4155-d7c1-8592a0eccbd1"
      },
      "source": [
        "# CREATING THE TABLE\n",
        "%%sql\n",
        "\n",
        "-- Step 1) create Manufaturers table\n",
        "CREATE TABLE IF NOT EXISTS Manufacturers (\n",
        "\tCode INTEGER PRIMARY KEY NOT NULL,\n",
        "\tName CHAR(50) NOT NULL\n",
        ");\n",
        "\n",
        "-- Step 2) create Products table\n",
        "CREATE TABLE Products (\n",
        "\tCode INTEGER PRIMARY KEY NOT NULL,\n",
        "\tName CHAR(50) NOT NULL ,\n",
        "\tPrice REAL NOT NULL ,\n",
        "\tManufacturer INTEGER NOT NULL\n",
        "\n",
        "\t\t-- Connect Foreign Key (Which will connect to other table)\n",
        "\t\tCONSTRAINT fk_Manufacturers_Code REFERENCES Manufacturers(Code));\n"
      ],
      "execution_count": 4,
      "outputs": [
        {
          "output_type": "stream",
          "name": "stdout",
          "text": [
            " * sqlite:///test.db\n",
            "Done.\n",
            "Done.\n"
          ]
        },
        {
          "output_type": "execute_result",
          "data": {
            "text/plain": [
              "[]"
            ]
          },
          "metadata": {},
          "execution_count": 4
        }
      ]
    },
    {
      "cell_type": "code",
      "source": [
        "## run this command before using SELECT\n",
        "%config SqlMagic.style = \"_DEPRECATED_DEFAULT\""
      ],
      "metadata": {
        "id": "1HiSfq5FgaUC"
      },
      "execution_count": 5,
      "outputs": []
    },
    {
      "cell_type": "code",
      "source": [
        "# INSERT VALUES\n",
        "%%sql\n",
        "INSERT INTO Manufacturers(Code,Name) VALUES(1,'Sony');\n",
        "INSERT INTO Manufacturers(Code,Name) VALUES(2,'Creative Labs');\n",
        "INSERT INTO Manufacturers(Code,Name) VALUES(3,'Hewlett-Packard');\n",
        "INSERT INTO Manufacturers(Code,Name) VALUES(4,'Iomega');\n",
        "INSERT INTO Manufacturers(Code,Name) VALUES(5,'Fujitsu');\n",
        "INSERT INTO Manufacturers(Code,Name) VALUES(6,'Winchester');\n",
        "\n",
        "INSERT INTO Products(Code,Name,Price,Manufacturer) VALUES(1,'Hard drive',240,5);\n",
        "INSERT INTO Products(Code,Name,Price,Manufacturer) VALUES(2,'Memory',120,6);\n",
        "INSERT INTO Products(Code,Name,Price,Manufacturer) VALUES(3,'ZIP drive',150,4);\n",
        "INSERT INTO Products(Code,Name,Price,Manufacturer) VALUES(4,'Floppy disk',5,6);\n",
        "INSERT INTO Products(Code,Name,Price,Manufacturer) VALUES(5,'Monitor',240,1);\n",
        "INSERT INTO Products(Code,Name,Price,Manufacturer) VALUES(6,'DVD drive',180,2);\n",
        "INSERT INTO Products(Code,Name,Price,Manufacturer) VALUES(7,'CD drive',90,2);\n",
        "INSERT INTO Products(Code,Name,Price,Manufacturer) VALUES(8,'Printer',270,3);\n",
        "INSERT INTO Products(Code,Name,Price,Manufacturer) VALUES(9,'Toner cartridge',66,3);\n",
        "INSERT INTO Products(Code,Name,Price,Manufacturer) VALUES(10,'DVD burner',180,2);"
      ],
      "metadata": {
        "colab": {
          "base_uri": "https://localhost:8080/"
        },
        "id": "dUanOE-o_T7u",
        "outputId": "c0934707-6d40-4f5c-ea35-4b67e63b41c4"
      },
      "execution_count": 6,
      "outputs": [
        {
          "output_type": "stream",
          "name": "stdout",
          "text": [
            " * sqlite:///test.db\n",
            "1 rows affected.\n",
            "1 rows affected.\n",
            "1 rows affected.\n",
            "1 rows affected.\n",
            "1 rows affected.\n",
            "1 rows affected.\n",
            "1 rows affected.\n",
            "1 rows affected.\n",
            "1 rows affected.\n",
            "1 rows affected.\n",
            "1 rows affected.\n",
            "1 rows affected.\n",
            "1 rows affected.\n",
            "1 rows affected.\n",
            "1 rows affected.\n",
            "1 rows affected.\n"
          ]
        },
        {
          "output_type": "execute_result",
          "data": {
            "text/plain": [
              "[]"
            ]
          },
          "metadata": {},
          "execution_count": 6
        }
      ]
    },
    {
      "cell_type": "code",
      "source": [
        "%%sql\n",
        "-- Select 2 columns\n",
        "SELECT Code , Name from Manufacturers"
      ],
      "metadata": {
        "colab": {
          "base_uri": "https://localhost:8080/",
          "height": 200
        },
        "id": "eiVfF7k6mUoH",
        "outputId": "406b8368-c3d6-4cc0-8600-3ef2a8126552"
      },
      "execution_count": 7,
      "outputs": [
        {
          "output_type": "stream",
          "name": "stdout",
          "text": [
            " * sqlite:///test.db\n",
            "Done.\n"
          ]
        },
        {
          "output_type": "execute_result",
          "data": {
            "text/plain": [
              "[(1, 'Sony'),\n",
              " (2, 'Creative Labs'),\n",
              " (3, 'Hewlett-Packard'),\n",
              " (4, 'Iomega'),\n",
              " (5, 'Fujitsu'),\n",
              " (6, 'Winchester')]"
            ],
            "text/html": [
              "<table>\n",
              "    <thead>\n",
              "        <tr>\n",
              "            <th>Code</th>\n",
              "            <th>Name</th>\n",
              "        </tr>\n",
              "    </thead>\n",
              "    <tbody>\n",
              "        <tr>\n",
              "            <td>1</td>\n",
              "            <td>Sony</td>\n",
              "        </tr>\n",
              "        <tr>\n",
              "            <td>2</td>\n",
              "            <td>Creative Labs</td>\n",
              "        </tr>\n",
              "        <tr>\n",
              "            <td>3</td>\n",
              "            <td>Hewlett-Packard</td>\n",
              "        </tr>\n",
              "        <tr>\n",
              "            <td>4</td>\n",
              "            <td>Iomega</td>\n",
              "        </tr>\n",
              "        <tr>\n",
              "            <td>5</td>\n",
              "            <td>Fujitsu</td>\n",
              "        </tr>\n",
              "        <tr>\n",
              "            <td>6</td>\n",
              "            <td>Winchester</td>\n",
              "        </tr>\n",
              "    </tbody>\n",
              "</table>"
            ]
          },
          "metadata": {},
          "execution_count": 7
        }
      ]
    },
    {
      "cell_type": "code",
      "source": [
        "%%sql\n",
        "-- Summarize Table using PRAGMA\n",
        "PRAGMA table_info(Manufacturers) -- See that pk in Code is 1 (means that Code column is primary key)"
      ],
      "metadata": {
        "colab": {
          "base_uri": "https://localhost:8080/",
          "height": 116
        },
        "id": "Jr1Q_eJZmii_",
        "outputId": "5f138922-5c49-49f2-89c4-d9cb44ae8dfa"
      },
      "execution_count": 8,
      "outputs": [
        {
          "output_type": "stream",
          "name": "stdout",
          "text": [
            " * sqlite:///test.db\n",
            "Done.\n"
          ]
        },
        {
          "output_type": "execute_result",
          "data": {
            "text/plain": [
              "[(0, 'Code', 'INTEGER', 1, None, 1), (1, 'Name', 'CHAR(50)', 1, None, 0)]"
            ],
            "text/html": [
              "<table>\n",
              "    <thead>\n",
              "        <tr>\n",
              "            <th>cid</th>\n",
              "            <th>name</th>\n",
              "            <th>type</th>\n",
              "            <th>notnull</th>\n",
              "            <th>dflt_value</th>\n",
              "            <th>pk</th>\n",
              "        </tr>\n",
              "    </thead>\n",
              "    <tbody>\n",
              "        <tr>\n",
              "            <td>0</td>\n",
              "            <td>Code</td>\n",
              "            <td>INTEGER</td>\n",
              "            <td>1</td>\n",
              "            <td>None</td>\n",
              "            <td>1</td>\n",
              "        </tr>\n",
              "        <tr>\n",
              "            <td>1</td>\n",
              "            <td>Name</td>\n",
              "            <td>CHAR(50)</td>\n",
              "            <td>1</td>\n",
              "            <td>None</td>\n",
              "            <td>0</td>\n",
              "        </tr>\n",
              "    </tbody>\n",
              "</table>"
            ]
          },
          "metadata": {},
          "execution_count": 8
        }
      ]
    },
    {
      "cell_type": "markdown",
      "metadata": {
        "id": "JQC_sWjHEsDg"
      },
      "source": [
        "keyword ที่ควรทราบ\n",
        "* PRIMARY KEY คือ คอลัมน์นั้นห้ามซ้ำ\n",
        "* NOT NULL คือ ห้ามว่าง\n",
        "* CONSTRAINT foreign_key_name REFERENCES main_table(key_column) คือสร้าง foreign key โยงสองตารางเข้าด้วยกัน ซึ่งในที่นี้คือให้คอลัมน์ Manufacturer โยงกับ code ในตาราง Manufacturer ผลในการกำหนด foreign key คือ จะไม่อนุญาตให้ทำการเพิ่ม code อื่น ๆ ที่ไม่ได้อยู่ในตาราง Manufacturer\n",
        "* commit คือการยืนยันคำสั่งก่อนหน้า เราจะสามารถ roll back กลับไปจุด commit ล่าสุดได้ ใช้กับคำสั่ง SQL ประเภท DML"
      ]
    },
    {
      "cell_type": "markdown",
      "metadata": {
        "id": "CX1_NAx87uIR"
      },
      "source": [
        "## 2.   ทดลอง query"
      ]
    },
    {
      "cell_type": "markdown",
      "metadata": {
        "id": "zL6wmDzE71V0"
      },
      "source": [
        "เลือกทุกแถวทุกคอลัมน์มาจากตาราง\n",
        "\n",
        "เราสามารถเลือกทุกคอลัมน์ได้โดยใช้เครื่องหมาย *"
      ]
    },
    {
      "cell_type": "code",
      "metadata": {
        "id": "8GliaHHeiJON",
        "colab": {
          "base_uri": "https://localhost:8080/",
          "height": 200
        },
        "outputId": "b06fc79b-5303-40cc-861f-299de3c603b3"
      },
      "source": [
        "%%sql\n",
        "SELECT * FROM Manufacturers;"
      ],
      "execution_count": 9,
      "outputs": [
        {
          "output_type": "stream",
          "name": "stdout",
          "text": [
            " * sqlite:///test.db\n",
            "Done.\n"
          ]
        },
        {
          "output_type": "execute_result",
          "data": {
            "text/plain": [
              "[(1, 'Sony'),\n",
              " (2, 'Creative Labs'),\n",
              " (3, 'Hewlett-Packard'),\n",
              " (4, 'Iomega'),\n",
              " (5, 'Fujitsu'),\n",
              " (6, 'Winchester')]"
            ],
            "text/html": [
              "<table>\n",
              "    <thead>\n",
              "        <tr>\n",
              "            <th>Code</th>\n",
              "            <th>Name</th>\n",
              "        </tr>\n",
              "    </thead>\n",
              "    <tbody>\n",
              "        <tr>\n",
              "            <td>1</td>\n",
              "            <td>Sony</td>\n",
              "        </tr>\n",
              "        <tr>\n",
              "            <td>2</td>\n",
              "            <td>Creative Labs</td>\n",
              "        </tr>\n",
              "        <tr>\n",
              "            <td>3</td>\n",
              "            <td>Hewlett-Packard</td>\n",
              "        </tr>\n",
              "        <tr>\n",
              "            <td>4</td>\n",
              "            <td>Iomega</td>\n",
              "        </tr>\n",
              "        <tr>\n",
              "            <td>5</td>\n",
              "            <td>Fujitsu</td>\n",
              "        </tr>\n",
              "        <tr>\n",
              "            <td>6</td>\n",
              "            <td>Winchester</td>\n",
              "        </tr>\n",
              "    </tbody>\n",
              "</table>"
            ]
          },
          "metadata": {},
          "execution_count": 9
        }
      ]
    },
    {
      "cell_type": "code",
      "metadata": {
        "id": "C23oVqPEmLja",
        "colab": {
          "base_uri": "https://localhost:8080/",
          "height": 284
        },
        "outputId": "1e17cb5d-b3bb-432c-d6ac-136319e1d0a8"
      },
      "source": [
        "%%sql\n",
        "SELECT * FROM Products;"
      ],
      "execution_count": 10,
      "outputs": [
        {
          "output_type": "stream",
          "name": "stdout",
          "text": [
            " * sqlite:///test.db\n",
            "Done.\n"
          ]
        },
        {
          "output_type": "execute_result",
          "data": {
            "text/plain": [
              "[(1, 'Hard drive', 240.0, 5),\n",
              " (2, 'Memory', 120.0, 6),\n",
              " (3, 'ZIP drive', 150.0, 4),\n",
              " (4, 'Floppy disk', 5.0, 6),\n",
              " (5, 'Monitor', 240.0, 1),\n",
              " (6, 'DVD drive', 180.0, 2),\n",
              " (7, 'CD drive', 90.0, 2),\n",
              " (8, 'Printer', 270.0, 3),\n",
              " (9, 'Toner cartridge', 66.0, 3),\n",
              " (10, 'DVD burner', 180.0, 2)]"
            ],
            "text/html": [
              "<table>\n",
              "    <thead>\n",
              "        <tr>\n",
              "            <th>Code</th>\n",
              "            <th>Name</th>\n",
              "            <th>Price</th>\n",
              "            <th>Manufacturer</th>\n",
              "        </tr>\n",
              "    </thead>\n",
              "    <tbody>\n",
              "        <tr>\n",
              "            <td>1</td>\n",
              "            <td>Hard drive</td>\n",
              "            <td>240.0</td>\n",
              "            <td>5</td>\n",
              "        </tr>\n",
              "        <tr>\n",
              "            <td>2</td>\n",
              "            <td>Memory</td>\n",
              "            <td>120.0</td>\n",
              "            <td>6</td>\n",
              "        </tr>\n",
              "        <tr>\n",
              "            <td>3</td>\n",
              "            <td>ZIP drive</td>\n",
              "            <td>150.0</td>\n",
              "            <td>4</td>\n",
              "        </tr>\n",
              "        <tr>\n",
              "            <td>4</td>\n",
              "            <td>Floppy disk</td>\n",
              "            <td>5.0</td>\n",
              "            <td>6</td>\n",
              "        </tr>\n",
              "        <tr>\n",
              "            <td>5</td>\n",
              "            <td>Monitor</td>\n",
              "            <td>240.0</td>\n",
              "            <td>1</td>\n",
              "        </tr>\n",
              "        <tr>\n",
              "            <td>6</td>\n",
              "            <td>DVD drive</td>\n",
              "            <td>180.0</td>\n",
              "            <td>2</td>\n",
              "        </tr>\n",
              "        <tr>\n",
              "            <td>7</td>\n",
              "            <td>CD drive</td>\n",
              "            <td>90.0</td>\n",
              "            <td>2</td>\n",
              "        </tr>\n",
              "        <tr>\n",
              "            <td>8</td>\n",
              "            <td>Printer</td>\n",
              "            <td>270.0</td>\n",
              "            <td>3</td>\n",
              "        </tr>\n",
              "        <tr>\n",
              "            <td>9</td>\n",
              "            <td>Toner cartridge</td>\n",
              "            <td>66.0</td>\n",
              "            <td>3</td>\n",
              "        </tr>\n",
              "        <tr>\n",
              "            <td>10</td>\n",
              "            <td>DVD burner</td>\n",
              "            <td>180.0</td>\n",
              "            <td>2</td>\n",
              "        </tr>\n",
              "    </tbody>\n",
              "</table>"
            ]
          },
          "metadata": {},
          "execution_count": 10
        }
      ]
    },
    {
      "cell_type": "markdown",
      "metadata": {
        "id": "-H6Ii1ebLlB6"
      },
      "source": [
        "เลือกแค่บางคอลัมน์"
      ]
    },
    {
      "cell_type": "code",
      "metadata": {
        "id": "lWZE65cKLnLi",
        "colab": {
          "base_uri": "https://localhost:8080/",
          "height": 284
        },
        "outputId": "e4706783-8330-43ad-b0dd-cfc420d94b46"
      },
      "source": [
        "%%sql\n",
        "select Name, Manufacturer from Products;"
      ],
      "execution_count": 11,
      "outputs": [
        {
          "output_type": "stream",
          "name": "stdout",
          "text": [
            " * sqlite:///test.db\n",
            "Done.\n"
          ]
        },
        {
          "output_type": "execute_result",
          "data": {
            "text/plain": [
              "[('Hard drive', 5),\n",
              " ('Memory', 6),\n",
              " ('ZIP drive', 4),\n",
              " ('Floppy disk', 6),\n",
              " ('Monitor', 1),\n",
              " ('DVD drive', 2),\n",
              " ('CD drive', 2),\n",
              " ('Printer', 3),\n",
              " ('Toner cartridge', 3),\n",
              " ('DVD burner', 2)]"
            ],
            "text/html": [
              "<table>\n",
              "    <thead>\n",
              "        <tr>\n",
              "            <th>Name</th>\n",
              "            <th>Manufacturer</th>\n",
              "        </tr>\n",
              "    </thead>\n",
              "    <tbody>\n",
              "        <tr>\n",
              "            <td>Hard drive</td>\n",
              "            <td>5</td>\n",
              "        </tr>\n",
              "        <tr>\n",
              "            <td>Memory</td>\n",
              "            <td>6</td>\n",
              "        </tr>\n",
              "        <tr>\n",
              "            <td>ZIP drive</td>\n",
              "            <td>4</td>\n",
              "        </tr>\n",
              "        <tr>\n",
              "            <td>Floppy disk</td>\n",
              "            <td>6</td>\n",
              "        </tr>\n",
              "        <tr>\n",
              "            <td>Monitor</td>\n",
              "            <td>1</td>\n",
              "        </tr>\n",
              "        <tr>\n",
              "            <td>DVD drive</td>\n",
              "            <td>2</td>\n",
              "        </tr>\n",
              "        <tr>\n",
              "            <td>CD drive</td>\n",
              "            <td>2</td>\n",
              "        </tr>\n",
              "        <tr>\n",
              "            <td>Printer</td>\n",
              "            <td>3</td>\n",
              "        </tr>\n",
              "        <tr>\n",
              "            <td>Toner cartridge</td>\n",
              "            <td>3</td>\n",
              "        </tr>\n",
              "        <tr>\n",
              "            <td>DVD burner</td>\n",
              "            <td>2</td>\n",
              "        </tr>\n",
              "    </tbody>\n",
              "</table>"
            ]
          },
          "metadata": {},
          "execution_count": 11
        }
      ]
    },
    {
      "cell_type": "code",
      "source": [
        "%%sql\n",
        "-- Select Text contain in column\n",
        "SELECT * FROM Products WHERE Name LIKE '%drive' ; -- % is sth before text\n",
        "-- * is selecting all column"
      ],
      "metadata": {
        "colab": {
          "base_uri": "https://localhost:8080/",
          "height": 158
        },
        "id": "3Qth67evnFfM",
        "outputId": "095e7537-df82-4db7-d203-d4101864941f"
      },
      "execution_count": 12,
      "outputs": [
        {
          "output_type": "stream",
          "name": "stdout",
          "text": [
            " * sqlite:///test.db\n",
            "Done.\n"
          ]
        },
        {
          "output_type": "execute_result",
          "data": {
            "text/plain": [
              "[(1, 'Hard drive', 240.0, 5),\n",
              " (3, 'ZIP drive', 150.0, 4),\n",
              " (6, 'DVD drive', 180.0, 2),\n",
              " (7, 'CD drive', 90.0, 2)]"
            ],
            "text/html": [
              "<table>\n",
              "    <thead>\n",
              "        <tr>\n",
              "            <th>Code</th>\n",
              "            <th>Name</th>\n",
              "            <th>Price</th>\n",
              "            <th>Manufacturer</th>\n",
              "        </tr>\n",
              "    </thead>\n",
              "    <tbody>\n",
              "        <tr>\n",
              "            <td>1</td>\n",
              "            <td>Hard drive</td>\n",
              "            <td>240.0</td>\n",
              "            <td>5</td>\n",
              "        </tr>\n",
              "        <tr>\n",
              "            <td>3</td>\n",
              "            <td>ZIP drive</td>\n",
              "            <td>150.0</td>\n",
              "            <td>4</td>\n",
              "        </tr>\n",
              "        <tr>\n",
              "            <td>6</td>\n",
              "            <td>DVD drive</td>\n",
              "            <td>180.0</td>\n",
              "            <td>2</td>\n",
              "        </tr>\n",
              "        <tr>\n",
              "            <td>7</td>\n",
              "            <td>CD drive</td>\n",
              "            <td>90.0</td>\n",
              "            <td>2</td>\n",
              "        </tr>\n",
              "    </tbody>\n",
              "</table>"
            ]
          },
          "metadata": {},
          "execution_count": 12
        }
      ]
    },
    {
      "cell_type": "code",
      "source": [
        "%%sql\n",
        "SELECT Name,Manufacturer FROM Products WHERE Manufacturer <= 2\n",
        "-- Manufacturer is Column Name , Manufacturers is Table name"
      ],
      "metadata": {
        "colab": {
          "base_uri": "https://localhost:8080/",
          "height": 158
        },
        "id": "5QPGncZSvY-o",
        "outputId": "d8530aeb-6028-4c26-cd3f-0be2de31a036"
      },
      "execution_count": 13,
      "outputs": [
        {
          "output_type": "stream",
          "name": "stdout",
          "text": [
            " * sqlite:///test.db\n",
            "Done.\n"
          ]
        },
        {
          "output_type": "execute_result",
          "data": {
            "text/plain": [
              "[('Monitor', 1), ('DVD drive', 2), ('CD drive', 2), ('DVD burner', 2)]"
            ],
            "text/html": [
              "<table>\n",
              "    <thead>\n",
              "        <tr>\n",
              "            <th>Name</th>\n",
              "            <th>Manufacturer</th>\n",
              "        </tr>\n",
              "    </thead>\n",
              "    <tbody>\n",
              "        <tr>\n",
              "            <td>Monitor</td>\n",
              "            <td>1</td>\n",
              "        </tr>\n",
              "        <tr>\n",
              "            <td>DVD drive</td>\n",
              "            <td>2</td>\n",
              "        </tr>\n",
              "        <tr>\n",
              "            <td>CD drive</td>\n",
              "            <td>2</td>\n",
              "        </tr>\n",
              "        <tr>\n",
              "            <td>DVD burner</td>\n",
              "            <td>2</td>\n",
              "        </tr>\n",
              "    </tbody>\n",
              "</table>"
            ]
          },
          "metadata": {},
          "execution_count": 13
        }
      ]
    },
    {
      "cell_type": "markdown",
      "metadata": {
        "id": "RgFlCnrFMxfU"
      },
      "source": [
        "เลือกสองตารางมาเชื่อมกัน"
      ]
    },
    {
      "cell_type": "code",
      "source": [
        "%%sql\n",
        "-- Combine two tables together (which is just connected in code above)\n",
        "SELECT * FROM Products P , Manufacturers M WHERE M.Code = P.Manufacturer; -- M,P is abbrev name\n",
        "-- define condition = for not getting all case connected (กันมาเชื่อมกันทุกเคส)"
      ],
      "metadata": {
        "colab": {
          "base_uri": "https://localhost:8080/",
          "height": 284
        },
        "id": "pktNt2WMpXQd",
        "outputId": "89e6ccf2-50bd-41cb-db91-6dafb9e9a649"
      },
      "execution_count": 14,
      "outputs": [
        {
          "output_type": "stream",
          "name": "stdout",
          "text": [
            " * sqlite:///test.db\n",
            "Done.\n"
          ]
        },
        {
          "output_type": "execute_result",
          "data": {
            "text/plain": [
              "[(1, 'Hard drive', 240.0, 5, 5, 'Fujitsu'),\n",
              " (2, 'Memory', 120.0, 6, 6, 'Winchester'),\n",
              " (3, 'ZIP drive', 150.0, 4, 4, 'Iomega'),\n",
              " (4, 'Floppy disk', 5.0, 6, 6, 'Winchester'),\n",
              " (5, 'Monitor', 240.0, 1, 1, 'Sony'),\n",
              " (6, 'DVD drive', 180.0, 2, 2, 'Creative Labs'),\n",
              " (7, 'CD drive', 90.0, 2, 2, 'Creative Labs'),\n",
              " (8, 'Printer', 270.0, 3, 3, 'Hewlett-Packard'),\n",
              " (9, 'Toner cartridge', 66.0, 3, 3, 'Hewlett-Packard'),\n",
              " (10, 'DVD burner', 180.0, 2, 2, 'Creative Labs')]"
            ],
            "text/html": [
              "<table>\n",
              "    <thead>\n",
              "        <tr>\n",
              "            <th>Code</th>\n",
              "            <th>Name</th>\n",
              "            <th>Price</th>\n",
              "            <th>Manufacturer</th>\n",
              "            <th>Code_1</th>\n",
              "            <th>Name_1</th>\n",
              "        </tr>\n",
              "    </thead>\n",
              "    <tbody>\n",
              "        <tr>\n",
              "            <td>1</td>\n",
              "            <td>Hard drive</td>\n",
              "            <td>240.0</td>\n",
              "            <td>5</td>\n",
              "            <td>5</td>\n",
              "            <td>Fujitsu</td>\n",
              "        </tr>\n",
              "        <tr>\n",
              "            <td>2</td>\n",
              "            <td>Memory</td>\n",
              "            <td>120.0</td>\n",
              "            <td>6</td>\n",
              "            <td>6</td>\n",
              "            <td>Winchester</td>\n",
              "        </tr>\n",
              "        <tr>\n",
              "            <td>3</td>\n",
              "            <td>ZIP drive</td>\n",
              "            <td>150.0</td>\n",
              "            <td>4</td>\n",
              "            <td>4</td>\n",
              "            <td>Iomega</td>\n",
              "        </tr>\n",
              "        <tr>\n",
              "            <td>4</td>\n",
              "            <td>Floppy disk</td>\n",
              "            <td>5.0</td>\n",
              "            <td>6</td>\n",
              "            <td>6</td>\n",
              "            <td>Winchester</td>\n",
              "        </tr>\n",
              "        <tr>\n",
              "            <td>5</td>\n",
              "            <td>Monitor</td>\n",
              "            <td>240.0</td>\n",
              "            <td>1</td>\n",
              "            <td>1</td>\n",
              "            <td>Sony</td>\n",
              "        </tr>\n",
              "        <tr>\n",
              "            <td>6</td>\n",
              "            <td>DVD drive</td>\n",
              "            <td>180.0</td>\n",
              "            <td>2</td>\n",
              "            <td>2</td>\n",
              "            <td>Creative Labs</td>\n",
              "        </tr>\n",
              "        <tr>\n",
              "            <td>7</td>\n",
              "            <td>CD drive</td>\n",
              "            <td>90.0</td>\n",
              "            <td>2</td>\n",
              "            <td>2</td>\n",
              "            <td>Creative Labs</td>\n",
              "        </tr>\n",
              "        <tr>\n",
              "            <td>8</td>\n",
              "            <td>Printer</td>\n",
              "            <td>270.0</td>\n",
              "            <td>3</td>\n",
              "            <td>3</td>\n",
              "            <td>Hewlett-Packard</td>\n",
              "        </tr>\n",
              "        <tr>\n",
              "            <td>9</td>\n",
              "            <td>Toner cartridge</td>\n",
              "            <td>66.0</td>\n",
              "            <td>3</td>\n",
              "            <td>3</td>\n",
              "            <td>Hewlett-Packard</td>\n",
              "        </tr>\n",
              "        <tr>\n",
              "            <td>10</td>\n",
              "            <td>DVD burner</td>\n",
              "            <td>180.0</td>\n",
              "            <td>2</td>\n",
              "            <td>2</td>\n",
              "            <td>Creative Labs</td>\n",
              "        </tr>\n",
              "    </tbody>\n",
              "</table>"
            ]
          },
          "metadata": {},
          "execution_count": 14
        }
      ]
    },
    {
      "cell_type": "code",
      "source": [
        "%%sql\n",
        "-- จริงๆ เราสามารถเปลี่ยนชื่อตารางได้ เเต่มันไม่กระทบ structure เดิม\n",
        "SELECT P.Code , P.Name , P.Price , M.Name as ManuName from Products P, Manufacturers M WHERE M.Code = P.Manufacturer ;"
      ],
      "metadata": {
        "colab": {
          "base_uri": "https://localhost:8080/",
          "height": 284
        },
        "id": "1EMdxFjfqw2i",
        "outputId": "cdf0ca65-f24c-4d15-fa9f-d1e163563507"
      },
      "execution_count": 15,
      "outputs": [
        {
          "output_type": "stream",
          "name": "stdout",
          "text": [
            " * sqlite:///test.db\n",
            "Done.\n"
          ]
        },
        {
          "output_type": "execute_result",
          "data": {
            "text/plain": [
              "[(1, 'Hard drive', 240.0, 'Fujitsu'),\n",
              " (2, 'Memory', 120.0, 'Winchester'),\n",
              " (3, 'ZIP drive', 150.0, 'Iomega'),\n",
              " (4, 'Floppy disk', 5.0, 'Winchester'),\n",
              " (5, 'Monitor', 240.0, 'Sony'),\n",
              " (6, 'DVD drive', 180.0, 'Creative Labs'),\n",
              " (7, 'CD drive', 90.0, 'Creative Labs'),\n",
              " (8, 'Printer', 270.0, 'Hewlett-Packard'),\n",
              " (9, 'Toner cartridge', 66.0, 'Hewlett-Packard'),\n",
              " (10, 'DVD burner', 180.0, 'Creative Labs')]"
            ],
            "text/html": [
              "<table>\n",
              "    <thead>\n",
              "        <tr>\n",
              "            <th>Code</th>\n",
              "            <th>Name</th>\n",
              "            <th>Price</th>\n",
              "            <th>ManuName</th>\n",
              "        </tr>\n",
              "    </thead>\n",
              "    <tbody>\n",
              "        <tr>\n",
              "            <td>1</td>\n",
              "            <td>Hard drive</td>\n",
              "            <td>240.0</td>\n",
              "            <td>Fujitsu</td>\n",
              "        </tr>\n",
              "        <tr>\n",
              "            <td>2</td>\n",
              "            <td>Memory</td>\n",
              "            <td>120.0</td>\n",
              "            <td>Winchester</td>\n",
              "        </tr>\n",
              "        <tr>\n",
              "            <td>3</td>\n",
              "            <td>ZIP drive</td>\n",
              "            <td>150.0</td>\n",
              "            <td>Iomega</td>\n",
              "        </tr>\n",
              "        <tr>\n",
              "            <td>4</td>\n",
              "            <td>Floppy disk</td>\n",
              "            <td>5.0</td>\n",
              "            <td>Winchester</td>\n",
              "        </tr>\n",
              "        <tr>\n",
              "            <td>5</td>\n",
              "            <td>Monitor</td>\n",
              "            <td>240.0</td>\n",
              "            <td>Sony</td>\n",
              "        </tr>\n",
              "        <tr>\n",
              "            <td>6</td>\n",
              "            <td>DVD drive</td>\n",
              "            <td>180.0</td>\n",
              "            <td>Creative Labs</td>\n",
              "        </tr>\n",
              "        <tr>\n",
              "            <td>7</td>\n",
              "            <td>CD drive</td>\n",
              "            <td>90.0</td>\n",
              "            <td>Creative Labs</td>\n",
              "        </tr>\n",
              "        <tr>\n",
              "            <td>8</td>\n",
              "            <td>Printer</td>\n",
              "            <td>270.0</td>\n",
              "            <td>Hewlett-Packard</td>\n",
              "        </tr>\n",
              "        <tr>\n",
              "            <td>9</td>\n",
              "            <td>Toner cartridge</td>\n",
              "            <td>66.0</td>\n",
              "            <td>Hewlett-Packard</td>\n",
              "        </tr>\n",
              "        <tr>\n",
              "            <td>10</td>\n",
              "            <td>DVD burner</td>\n",
              "            <td>180.0</td>\n",
              "            <td>Creative Labs</td>\n",
              "        </tr>\n",
              "    </tbody>\n",
              "</table>"
            ]
          },
          "metadata": {},
          "execution_count": 15
        }
      ]
    },
    {
      "cell_type": "code",
      "metadata": {
        "id": "sv3pgM1pMzXD",
        "colab": {
          "base_uri": "https://localhost:8080/",
          "height": 284
        },
        "outputId": "5b3d2cf3-949a-48e2-872c-1d2a3491362b"
      },
      "source": [
        "%%sql\n",
        "select p.name,p.price,p.manufacturer,m.name from products p, manufacturers m where p.manufacturer=m.code;"
      ],
      "execution_count": 16,
      "outputs": [
        {
          "output_type": "stream",
          "name": "stdout",
          "text": [
            " * sqlite:///test.db\n",
            "Done.\n"
          ]
        },
        {
          "output_type": "execute_result",
          "data": {
            "text/plain": [
              "[('Hard drive', 240.0, 5, 'Fujitsu'),\n",
              " ('Memory', 120.0, 6, 'Winchester'),\n",
              " ('ZIP drive', 150.0, 4, 'Iomega'),\n",
              " ('Floppy disk', 5.0, 6, 'Winchester'),\n",
              " ('Monitor', 240.0, 1, 'Sony'),\n",
              " ('DVD drive', 180.0, 2, 'Creative Labs'),\n",
              " ('CD drive', 90.0, 2, 'Creative Labs'),\n",
              " ('Printer', 270.0, 3, 'Hewlett-Packard'),\n",
              " ('Toner cartridge', 66.0, 3, 'Hewlett-Packard'),\n",
              " ('DVD burner', 180.0, 2, 'Creative Labs')]"
            ],
            "text/html": [
              "<table>\n",
              "    <thead>\n",
              "        <tr>\n",
              "            <th>Name</th>\n",
              "            <th>Price</th>\n",
              "            <th>Manufacturer</th>\n",
              "            <th>Name_1</th>\n",
              "        </tr>\n",
              "    </thead>\n",
              "    <tbody>\n",
              "        <tr>\n",
              "            <td>Hard drive</td>\n",
              "            <td>240.0</td>\n",
              "            <td>5</td>\n",
              "            <td>Fujitsu</td>\n",
              "        </tr>\n",
              "        <tr>\n",
              "            <td>Memory</td>\n",
              "            <td>120.0</td>\n",
              "            <td>6</td>\n",
              "            <td>Winchester</td>\n",
              "        </tr>\n",
              "        <tr>\n",
              "            <td>ZIP drive</td>\n",
              "            <td>150.0</td>\n",
              "            <td>4</td>\n",
              "            <td>Iomega</td>\n",
              "        </tr>\n",
              "        <tr>\n",
              "            <td>Floppy disk</td>\n",
              "            <td>5.0</td>\n",
              "            <td>6</td>\n",
              "            <td>Winchester</td>\n",
              "        </tr>\n",
              "        <tr>\n",
              "            <td>Monitor</td>\n",
              "            <td>240.0</td>\n",
              "            <td>1</td>\n",
              "            <td>Sony</td>\n",
              "        </tr>\n",
              "        <tr>\n",
              "            <td>DVD drive</td>\n",
              "            <td>180.0</td>\n",
              "            <td>2</td>\n",
              "            <td>Creative Labs</td>\n",
              "        </tr>\n",
              "        <tr>\n",
              "            <td>CD drive</td>\n",
              "            <td>90.0</td>\n",
              "            <td>2</td>\n",
              "            <td>Creative Labs</td>\n",
              "        </tr>\n",
              "        <tr>\n",
              "            <td>Printer</td>\n",
              "            <td>270.0</td>\n",
              "            <td>3</td>\n",
              "            <td>Hewlett-Packard</td>\n",
              "        </tr>\n",
              "        <tr>\n",
              "            <td>Toner cartridge</td>\n",
              "            <td>66.0</td>\n",
              "            <td>3</td>\n",
              "            <td>Hewlett-Packard</td>\n",
              "        </tr>\n",
              "        <tr>\n",
              "            <td>DVD burner</td>\n",
              "            <td>180.0</td>\n",
              "            <td>2</td>\n",
              "            <td>Creative Labs</td>\n",
              "        </tr>\n",
              "    </tbody>\n",
              "</table>"
            ]
          },
          "metadata": {},
          "execution_count": 16
        }
      ]
    },
    {
      "cell_type": "markdown",
      "source": [
        "# 3.ทำโจทย์"
      ],
      "metadata": {
        "id": "RqArNxo15pCg"
      }
    },
    {
      "cell_type": "markdown",
      "source": [
        "1) Select the name of the products with a price less than or equal to $200."
      ],
      "metadata": {
        "id": "UDpXvT894LKx"
      }
    },
    {
      "cell_type": "code",
      "source": [
        "%%sql\n",
        "SELECT Name FROM Products P WHERE P.Price <= 200"
      ],
      "metadata": {
        "colab": {
          "base_uri": "https://localhost:8080/",
          "height": 221
        },
        "id": "0JZ2opb9sX4a",
        "outputId": "cd45ebfd-6a56-426c-8dbc-4c622c0f7d5b"
      },
      "execution_count": 17,
      "outputs": [
        {
          "output_type": "stream",
          "name": "stdout",
          "text": [
            " * sqlite:///test.db\n",
            "Done.\n"
          ]
        },
        {
          "output_type": "execute_result",
          "data": {
            "text/plain": [
              "[('Memory',),\n",
              " ('ZIP drive',),\n",
              " ('Floppy disk',),\n",
              " ('DVD drive',),\n",
              " ('CD drive',),\n",
              " ('Toner cartridge',),\n",
              " ('DVD burner',)]"
            ],
            "text/html": [
              "<table>\n",
              "    <thead>\n",
              "        <tr>\n",
              "            <th>Name</th>\n",
              "        </tr>\n",
              "    </thead>\n",
              "    <tbody>\n",
              "        <tr>\n",
              "            <td>Memory</td>\n",
              "        </tr>\n",
              "        <tr>\n",
              "            <td>ZIP drive</td>\n",
              "        </tr>\n",
              "        <tr>\n",
              "            <td>Floppy disk</td>\n",
              "        </tr>\n",
              "        <tr>\n",
              "            <td>DVD drive</td>\n",
              "        </tr>\n",
              "        <tr>\n",
              "            <td>CD drive</td>\n",
              "        </tr>\n",
              "        <tr>\n",
              "            <td>Toner cartridge</td>\n",
              "        </tr>\n",
              "        <tr>\n",
              "            <td>DVD burner</td>\n",
              "        </tr>\n",
              "    </tbody>\n",
              "</table>"
            ]
          },
          "metadata": {},
          "execution_count": 17
        }
      ]
    },
    {
      "cell_type": "markdown",
      "source": [
        "2) Select all the products with a price between ```$```60 and ```$```120."
      ],
      "metadata": {
        "id": "yGVaVSpL4Vv9"
      }
    },
    {
      "cell_type": "code",
      "source": [
        "%%sql\n",
        "SELECT * FROM Products P WHERE 60 <= P.Price <= 120\n",
        "-- USING BETWEEN 60 AND 120 IS BETTER"
      ],
      "metadata": {
        "colab": {
          "base_uri": "https://localhost:8080/",
          "height": 284
        },
        "id": "8oaaq0e6s7Yq",
        "outputId": "fca4a0c3-2239-4946-f720-13f76195331a"
      },
      "execution_count": 18,
      "outputs": [
        {
          "output_type": "stream",
          "name": "stdout",
          "text": [
            " * sqlite:///test.db\n",
            "Done.\n"
          ]
        },
        {
          "output_type": "execute_result",
          "data": {
            "text/plain": [
              "[(1, 'Hard drive', 240.0, 5),\n",
              " (2, 'Memory', 120.0, 6),\n",
              " (3, 'ZIP drive', 150.0, 4),\n",
              " (4, 'Floppy disk', 5.0, 6),\n",
              " (5, 'Monitor', 240.0, 1),\n",
              " (6, 'DVD drive', 180.0, 2),\n",
              " (7, 'CD drive', 90.0, 2),\n",
              " (8, 'Printer', 270.0, 3),\n",
              " (9, 'Toner cartridge', 66.0, 3),\n",
              " (10, 'DVD burner', 180.0, 2)]"
            ],
            "text/html": [
              "<table>\n",
              "    <thead>\n",
              "        <tr>\n",
              "            <th>Code</th>\n",
              "            <th>Name</th>\n",
              "            <th>Price</th>\n",
              "            <th>Manufacturer</th>\n",
              "        </tr>\n",
              "    </thead>\n",
              "    <tbody>\n",
              "        <tr>\n",
              "            <td>1</td>\n",
              "            <td>Hard drive</td>\n",
              "            <td>240.0</td>\n",
              "            <td>5</td>\n",
              "        </tr>\n",
              "        <tr>\n",
              "            <td>2</td>\n",
              "            <td>Memory</td>\n",
              "            <td>120.0</td>\n",
              "            <td>6</td>\n",
              "        </tr>\n",
              "        <tr>\n",
              "            <td>3</td>\n",
              "            <td>ZIP drive</td>\n",
              "            <td>150.0</td>\n",
              "            <td>4</td>\n",
              "        </tr>\n",
              "        <tr>\n",
              "            <td>4</td>\n",
              "            <td>Floppy disk</td>\n",
              "            <td>5.0</td>\n",
              "            <td>6</td>\n",
              "        </tr>\n",
              "        <tr>\n",
              "            <td>5</td>\n",
              "            <td>Monitor</td>\n",
              "            <td>240.0</td>\n",
              "            <td>1</td>\n",
              "        </tr>\n",
              "        <tr>\n",
              "            <td>6</td>\n",
              "            <td>DVD drive</td>\n",
              "            <td>180.0</td>\n",
              "            <td>2</td>\n",
              "        </tr>\n",
              "        <tr>\n",
              "            <td>7</td>\n",
              "            <td>CD drive</td>\n",
              "            <td>90.0</td>\n",
              "            <td>2</td>\n",
              "        </tr>\n",
              "        <tr>\n",
              "            <td>8</td>\n",
              "            <td>Printer</td>\n",
              "            <td>270.0</td>\n",
              "            <td>3</td>\n",
              "        </tr>\n",
              "        <tr>\n",
              "            <td>9</td>\n",
              "            <td>Toner cartridge</td>\n",
              "            <td>66.0</td>\n",
              "            <td>3</td>\n",
              "        </tr>\n",
              "        <tr>\n",
              "            <td>10</td>\n",
              "            <td>DVD burner</td>\n",
              "            <td>180.0</td>\n",
              "            <td>2</td>\n",
              "        </tr>\n",
              "    </tbody>\n",
              "</table>"
            ]
          },
          "metadata": {},
          "execution_count": 18
        }
      ]
    },
    {
      "cell_type": "markdown",
      "source": [
        "3) Select the name and price in cents (i.e., the price must be multiplied by 100)."
      ],
      "metadata": {
        "id": "T4llVOuZ4XrM"
      }
    },
    {
      "cell_type": "code",
      "source": [
        "%%sql\n",
        "SELECT Name , Price * 100 as Price_Cent FROM Products\n",
        "-- NO NEED TO USE WHERE (CONDITIONAL)"
      ],
      "metadata": {
        "colab": {
          "base_uri": "https://localhost:8080/",
          "height": 284
        },
        "id": "YgDbSSD8th1V",
        "outputId": "54ff9929-caf9-4974-8d71-119628686e35"
      },
      "execution_count": 19,
      "outputs": [
        {
          "output_type": "stream",
          "name": "stdout",
          "text": [
            " * sqlite:///test.db\n",
            "Done.\n"
          ]
        },
        {
          "output_type": "execute_result",
          "data": {
            "text/plain": [
              "[('Hard drive', 24000.0),\n",
              " ('Memory', 12000.0),\n",
              " ('ZIP drive', 15000.0),\n",
              " ('Floppy disk', 500.0),\n",
              " ('Monitor', 24000.0),\n",
              " ('DVD drive', 18000.0),\n",
              " ('CD drive', 9000.0),\n",
              " ('Printer', 27000.0),\n",
              " ('Toner cartridge', 6600.0),\n",
              " ('DVD burner', 18000.0)]"
            ],
            "text/html": [
              "<table>\n",
              "    <thead>\n",
              "        <tr>\n",
              "            <th>Name</th>\n",
              "            <th>Price_Cent</th>\n",
              "        </tr>\n",
              "    </thead>\n",
              "    <tbody>\n",
              "        <tr>\n",
              "            <td>Hard drive</td>\n",
              "            <td>24000.0</td>\n",
              "        </tr>\n",
              "        <tr>\n",
              "            <td>Memory</td>\n",
              "            <td>12000.0</td>\n",
              "        </tr>\n",
              "        <tr>\n",
              "            <td>ZIP drive</td>\n",
              "            <td>15000.0</td>\n",
              "        </tr>\n",
              "        <tr>\n",
              "            <td>Floppy disk</td>\n",
              "            <td>500.0</td>\n",
              "        </tr>\n",
              "        <tr>\n",
              "            <td>Monitor</td>\n",
              "            <td>24000.0</td>\n",
              "        </tr>\n",
              "        <tr>\n",
              "            <td>DVD drive</td>\n",
              "            <td>18000.0</td>\n",
              "        </tr>\n",
              "        <tr>\n",
              "            <td>CD drive</td>\n",
              "            <td>9000.0</td>\n",
              "        </tr>\n",
              "        <tr>\n",
              "            <td>Printer</td>\n",
              "            <td>27000.0</td>\n",
              "        </tr>\n",
              "        <tr>\n",
              "            <td>Toner cartridge</td>\n",
              "            <td>6600.0</td>\n",
              "        </tr>\n",
              "        <tr>\n",
              "            <td>DVD burner</td>\n",
              "            <td>18000.0</td>\n",
              "        </tr>\n",
              "    </tbody>\n",
              "</table>"
            ]
          },
          "metadata": {},
          "execution_count": 19
        }
      ]
    },
    {
      "cell_type": "markdown",
      "source": [
        "4) Compute the average price of all the products."
      ],
      "metadata": {
        "id": "MWvckqby5Bxb"
      }
    },
    {
      "cell_type": "code",
      "source": [
        "%%sql\n",
        "SELECT AVG(Price) as Average_Price\n",
        "FROM Products"
      ],
      "metadata": {
        "colab": {
          "base_uri": "https://localhost:8080/",
          "height": 95
        },
        "id": "0IhsFOdbukDo",
        "outputId": "c86df44a-15d2-46f5-ef43-22b6a4f60a59"
      },
      "execution_count": 79,
      "outputs": [
        {
          "output_type": "stream",
          "name": "stdout",
          "text": [
            " * sqlite:///test.db\n",
            "Done.\n"
          ]
        },
        {
          "output_type": "execute_result",
          "data": {
            "text/plain": [
              "[(154.1,)]"
            ],
            "text/html": [
              "<table>\n",
              "    <thead>\n",
              "        <tr>\n",
              "            <th>Average_Price</th>\n",
              "        </tr>\n",
              "    </thead>\n",
              "    <tbody>\n",
              "        <tr>\n",
              "            <td>154.1</td>\n",
              "        </tr>\n",
              "    </tbody>\n",
              "</table>"
            ]
          },
          "metadata": {},
          "execution_count": 79
        }
      ]
    },
    {
      "cell_type": "markdown",
      "source": [
        "5) Compute the average price of all products with manufacturer code equal to 2."
      ],
      "metadata": {
        "id": "PKojNiJm5EA3"
      }
    },
    {
      "cell_type": "code",
      "source": [
        "%%sql\n",
        "SELECT AVG(PRICE) as AvgPrice\n",
        "FROM Products P , Manufacturers M\n",
        "WHERE (M.Code = P.Manufacturer) AND (P.Manufacturer = 2)"
      ],
      "metadata": {
        "colab": {
          "base_uri": "https://localhost:8080/",
          "height": 95
        },
        "id": "khNNK0D4w6ux",
        "outputId": "672ccbcf-6169-46cb-e145-f6847c78a5b9"
      },
      "execution_count": 65,
      "outputs": [
        {
          "output_type": "stream",
          "name": "stdout",
          "text": [
            " * sqlite:///test.db\n",
            "Done.\n"
          ]
        },
        {
          "output_type": "execute_result",
          "data": {
            "text/plain": [
              "[(150.0,)]"
            ],
            "text/html": [
              "<table>\n",
              "    <thead>\n",
              "        <tr>\n",
              "            <th>AvgPrice</th>\n",
              "        </tr>\n",
              "    </thead>\n",
              "    <tbody>\n",
              "        <tr>\n",
              "            <td>150.0</td>\n",
              "        </tr>\n",
              "    </tbody>\n",
              "</table>"
            ]
          },
          "metadata": {},
          "execution_count": 65
        }
      ]
    },
    {
      "cell_type": "markdown",
      "source": [
        "6) Compute the number of products with a price larger than or equal to $180."
      ],
      "metadata": {
        "id": "G4rrR0Y65FxI"
      }
    },
    {
      "cell_type": "code",
      "source": [
        "%%sql\n",
        "SELECT COUNT(Price) as Count_Price_MoreThan180\n",
        "FROM Products P\n",
        "WHERE P.Price >= 180"
      ],
      "metadata": {
        "colab": {
          "base_uri": "https://localhost:8080/",
          "height": 95
        },
        "id": "db8vvWZnziEN",
        "outputId": "b28e228e-6701-4f2a-ad7f-193cf7bd3c76"
      },
      "execution_count": 22,
      "outputs": [
        {
          "output_type": "stream",
          "name": "stdout",
          "text": [
            " * sqlite:///test.db\n",
            "Done.\n"
          ]
        },
        {
          "output_type": "execute_result",
          "data": {
            "text/plain": [
              "[(5,)]"
            ],
            "text/html": [
              "<table>\n",
              "    <thead>\n",
              "        <tr>\n",
              "            <th>Count_Price_MoreThan180</th>\n",
              "        </tr>\n",
              "    </thead>\n",
              "    <tbody>\n",
              "        <tr>\n",
              "            <td>5</td>\n",
              "        </tr>\n",
              "    </tbody>\n",
              "</table>"
            ]
          },
          "metadata": {},
          "execution_count": 22
        }
      ]
    },
    {
      "cell_type": "markdown",
      "source": [
        "7) Select the name and price of all products with a price larger than or equal to $180, and sort first by price (in descending order), and then by name (in ascending order)."
      ],
      "metadata": {
        "id": "Vfbneh-I5Hxz"
      }
    },
    {
      "cell_type": "code",
      "source": [
        "%%sql\n",
        "SELECT Name , Price\n",
        "FROM Products P\n",
        "WHERE P.Price >= 180\n",
        "-- Sort by using ORDER BY ... ASC|DESC\n",
        "ORDER BY Price DESC , Name ASC"
      ],
      "metadata": {
        "colab": {
          "base_uri": "https://localhost:8080/",
          "height": 179
        },
        "id": "tajh8uKF0W5Y",
        "outputId": "907fbb36-211d-41c2-f8c3-238a0987fee3"
      },
      "execution_count": 23,
      "outputs": [
        {
          "output_type": "stream",
          "name": "stdout",
          "text": [
            " * sqlite:///test.db\n",
            "Done.\n"
          ]
        },
        {
          "output_type": "execute_result",
          "data": {
            "text/plain": [
              "[('Printer', 270.0),\n",
              " ('Hard drive', 240.0),\n",
              " ('Monitor', 240.0),\n",
              " ('DVD burner', 180.0),\n",
              " ('DVD drive', 180.0)]"
            ],
            "text/html": [
              "<table>\n",
              "    <thead>\n",
              "        <tr>\n",
              "            <th>Name</th>\n",
              "            <th>Price</th>\n",
              "        </tr>\n",
              "    </thead>\n",
              "    <tbody>\n",
              "        <tr>\n",
              "            <td>Printer</td>\n",
              "            <td>270.0</td>\n",
              "        </tr>\n",
              "        <tr>\n",
              "            <td>Hard drive</td>\n",
              "            <td>240.0</td>\n",
              "        </tr>\n",
              "        <tr>\n",
              "            <td>Monitor</td>\n",
              "            <td>240.0</td>\n",
              "        </tr>\n",
              "        <tr>\n",
              "            <td>DVD burner</td>\n",
              "            <td>180.0</td>\n",
              "        </tr>\n",
              "        <tr>\n",
              "            <td>DVD drive</td>\n",
              "            <td>180.0</td>\n",
              "        </tr>\n",
              "    </tbody>\n",
              "</table>"
            ]
          },
          "metadata": {},
          "execution_count": 23
        }
      ]
    },
    {
      "cell_type": "markdown",
      "source": [
        "8) Select all the data from the products, including all the data for each product's manufacturer."
      ],
      "metadata": {
        "id": "VP1vqmD45Jux"
      }
    },
    {
      "cell_type": "code",
      "source": [
        "%%sql\n",
        "SELECT *\n",
        "FROM Products P , Manufacturers M\n",
        "WHERE M.Code = P.Manufacturer -- This condition is for inhibiting one-to-many connect"
      ],
      "metadata": {
        "colab": {
          "base_uri": "https://localhost:8080/",
          "height": 284
        },
        "id": "iri2Pm-Y0cCl",
        "outputId": "7b23faca-3157-4e36-d68d-93991b95159b"
      },
      "execution_count": 51,
      "outputs": [
        {
          "output_type": "stream",
          "name": "stdout",
          "text": [
            " * sqlite:///test.db\n",
            "Done.\n"
          ]
        },
        {
          "output_type": "execute_result",
          "data": {
            "text/plain": [
              "[(1, 'Hard drive', 240.0, 5, 5, 'Fujitsu'),\n",
              " (2, 'Memory', 120.0, 6, 6, 'Winchester'),\n",
              " (3, 'ZIP drive', 150.0, 4, 4, 'Iomega'),\n",
              " (4, 'Floppy disk', 5.0, 6, 6, 'Winchester'),\n",
              " (5, 'Monitor', 240.0, 1, 1, 'Sony'),\n",
              " (6, 'DVD drive', 180.0, 2, 2, 'Creative Labs'),\n",
              " (7, 'CD drive', 90.0, 2, 2, 'Creative Labs'),\n",
              " (8, 'Printer', 270.0, 3, 3, 'Hewlett-Packard'),\n",
              " (9, 'Toner cartridge', 66.0, 3, 3, 'Hewlett-Packard'),\n",
              " (10, 'DVD burner', 180.0, 2, 2, 'Creative Labs')]"
            ],
            "text/html": [
              "<table>\n",
              "    <thead>\n",
              "        <tr>\n",
              "            <th>Code</th>\n",
              "            <th>Name</th>\n",
              "            <th>Price</th>\n",
              "            <th>Manufacturer</th>\n",
              "            <th>Code_1</th>\n",
              "            <th>Name_1</th>\n",
              "        </tr>\n",
              "    </thead>\n",
              "    <tbody>\n",
              "        <tr>\n",
              "            <td>1</td>\n",
              "            <td>Hard drive</td>\n",
              "            <td>240.0</td>\n",
              "            <td>5</td>\n",
              "            <td>5</td>\n",
              "            <td>Fujitsu</td>\n",
              "        </tr>\n",
              "        <tr>\n",
              "            <td>2</td>\n",
              "            <td>Memory</td>\n",
              "            <td>120.0</td>\n",
              "            <td>6</td>\n",
              "            <td>6</td>\n",
              "            <td>Winchester</td>\n",
              "        </tr>\n",
              "        <tr>\n",
              "            <td>3</td>\n",
              "            <td>ZIP drive</td>\n",
              "            <td>150.0</td>\n",
              "            <td>4</td>\n",
              "            <td>4</td>\n",
              "            <td>Iomega</td>\n",
              "        </tr>\n",
              "        <tr>\n",
              "            <td>4</td>\n",
              "            <td>Floppy disk</td>\n",
              "            <td>5.0</td>\n",
              "            <td>6</td>\n",
              "            <td>6</td>\n",
              "            <td>Winchester</td>\n",
              "        </tr>\n",
              "        <tr>\n",
              "            <td>5</td>\n",
              "            <td>Monitor</td>\n",
              "            <td>240.0</td>\n",
              "            <td>1</td>\n",
              "            <td>1</td>\n",
              "            <td>Sony</td>\n",
              "        </tr>\n",
              "        <tr>\n",
              "            <td>6</td>\n",
              "            <td>DVD drive</td>\n",
              "            <td>180.0</td>\n",
              "            <td>2</td>\n",
              "            <td>2</td>\n",
              "            <td>Creative Labs</td>\n",
              "        </tr>\n",
              "        <tr>\n",
              "            <td>7</td>\n",
              "            <td>CD drive</td>\n",
              "            <td>90.0</td>\n",
              "            <td>2</td>\n",
              "            <td>2</td>\n",
              "            <td>Creative Labs</td>\n",
              "        </tr>\n",
              "        <tr>\n",
              "            <td>8</td>\n",
              "            <td>Printer</td>\n",
              "            <td>270.0</td>\n",
              "            <td>3</td>\n",
              "            <td>3</td>\n",
              "            <td>Hewlett-Packard</td>\n",
              "        </tr>\n",
              "        <tr>\n",
              "            <td>9</td>\n",
              "            <td>Toner cartridge</td>\n",
              "            <td>66.0</td>\n",
              "            <td>3</td>\n",
              "            <td>3</td>\n",
              "            <td>Hewlett-Packard</td>\n",
              "        </tr>\n",
              "        <tr>\n",
              "            <td>10</td>\n",
              "            <td>DVD burner</td>\n",
              "            <td>180.0</td>\n",
              "            <td>2</td>\n",
              "            <td>2</td>\n",
              "            <td>Creative Labs</td>\n",
              "        </tr>\n",
              "    </tbody>\n",
              "</table>"
            ]
          },
          "metadata": {},
          "execution_count": 51
        }
      ]
    },
    {
      "cell_type": "markdown",
      "source": [
        "9) Select the product name, price, and manufacturer name of all the products."
      ],
      "metadata": {
        "id": "c11lF1ht5Lhl"
      }
    },
    {
      "cell_type": "code",
      "source": [
        "%%sql\n",
        "SELECT P.Name , P.Price , M.Name as ManufacName\n",
        "FROM Products P , Manufacturers M\n",
        "WHERE M.Code = P.Manufacturer"
      ],
      "metadata": {
        "colab": {
          "base_uri": "https://localhost:8080/",
          "height": 284
        },
        "id": "8X49Drw20bdS",
        "outputId": "537a8ea9-5b61-4cd2-fc97-1e062446df28"
      },
      "execution_count": 64,
      "outputs": [
        {
          "output_type": "stream",
          "name": "stdout",
          "text": [
            " * sqlite:///test.db\n",
            "Done.\n"
          ]
        },
        {
          "output_type": "execute_result",
          "data": {
            "text/plain": [
              "[('Hard drive', 240.0, 'Fujitsu'),\n",
              " ('Memory', 120.0, 'Winchester'),\n",
              " ('ZIP drive', 150.0, 'Iomega'),\n",
              " ('Floppy disk', 5.0, 'Winchester'),\n",
              " ('Monitor', 240.0, 'Sony'),\n",
              " ('DVD drive', 180.0, 'Creative Labs'),\n",
              " ('CD drive', 90.0, 'Creative Labs'),\n",
              " ('Printer', 270.0, 'Hewlett-Packard'),\n",
              " ('Toner cartridge', 66.0, 'Hewlett-Packard'),\n",
              " ('DVD burner', 180.0, 'Creative Labs')]"
            ],
            "text/html": [
              "<table>\n",
              "    <thead>\n",
              "        <tr>\n",
              "            <th>Name</th>\n",
              "            <th>Price</th>\n",
              "            <th>ManufacName</th>\n",
              "        </tr>\n",
              "    </thead>\n",
              "    <tbody>\n",
              "        <tr>\n",
              "            <td>Hard drive</td>\n",
              "            <td>240.0</td>\n",
              "            <td>Fujitsu</td>\n",
              "        </tr>\n",
              "        <tr>\n",
              "            <td>Memory</td>\n",
              "            <td>120.0</td>\n",
              "            <td>Winchester</td>\n",
              "        </tr>\n",
              "        <tr>\n",
              "            <td>ZIP drive</td>\n",
              "            <td>150.0</td>\n",
              "            <td>Iomega</td>\n",
              "        </tr>\n",
              "        <tr>\n",
              "            <td>Floppy disk</td>\n",
              "            <td>5.0</td>\n",
              "            <td>Winchester</td>\n",
              "        </tr>\n",
              "        <tr>\n",
              "            <td>Monitor</td>\n",
              "            <td>240.0</td>\n",
              "            <td>Sony</td>\n",
              "        </tr>\n",
              "        <tr>\n",
              "            <td>DVD drive</td>\n",
              "            <td>180.0</td>\n",
              "            <td>Creative Labs</td>\n",
              "        </tr>\n",
              "        <tr>\n",
              "            <td>CD drive</td>\n",
              "            <td>90.0</td>\n",
              "            <td>Creative Labs</td>\n",
              "        </tr>\n",
              "        <tr>\n",
              "            <td>Printer</td>\n",
              "            <td>270.0</td>\n",
              "            <td>Hewlett-Packard</td>\n",
              "        </tr>\n",
              "        <tr>\n",
              "            <td>Toner cartridge</td>\n",
              "            <td>66.0</td>\n",
              "            <td>Hewlett-Packard</td>\n",
              "        </tr>\n",
              "        <tr>\n",
              "            <td>DVD burner</td>\n",
              "            <td>180.0</td>\n",
              "            <td>Creative Labs</td>\n",
              "        </tr>\n",
              "    </tbody>\n",
              "</table>"
            ]
          },
          "metadata": {},
          "execution_count": 64
        }
      ]
    },
    {
      "cell_type": "markdown",
      "source": [
        "10) Select the average price of each manufacturer's products, showing only the manufacturer's code."
      ],
      "metadata": {
        "id": "61o48lFI5NMt"
      }
    },
    {
      "cell_type": "code",
      "source": [
        "%%sql\n",
        "SELECT AVG(Price) as AvgPrice , M.Code as ManufacCode\n",
        "FROM Products P , Manufacturers M\n",
        "WHERE M.Code = P.Manufacturer\n",
        "GROUP BY (Manufacturer)"
      ],
      "metadata": {
        "colab": {
          "base_uri": "https://localhost:8080/",
          "height": 200
        },
        "id": "jYxjuFvc3Ho9",
        "outputId": "4493d29b-6209-4f24-e06b-502b49d6d852"
      },
      "execution_count": 62,
      "outputs": [
        {
          "output_type": "stream",
          "name": "stdout",
          "text": [
            " * sqlite:///test.db\n",
            "Done.\n"
          ]
        },
        {
          "output_type": "execute_result",
          "data": {
            "text/plain": [
              "[(240.0, 1), (150.0, 2), (168.0, 3), (150.0, 4), (240.0, 5), (62.5, 6)]"
            ],
            "text/html": [
              "<table>\n",
              "    <thead>\n",
              "        <tr>\n",
              "            <th>AvgPrice</th>\n",
              "            <th>ManufacCode</th>\n",
              "        </tr>\n",
              "    </thead>\n",
              "    <tbody>\n",
              "        <tr>\n",
              "            <td>240.0</td>\n",
              "            <td>1</td>\n",
              "        </tr>\n",
              "        <tr>\n",
              "            <td>150.0</td>\n",
              "            <td>2</td>\n",
              "        </tr>\n",
              "        <tr>\n",
              "            <td>168.0</td>\n",
              "            <td>3</td>\n",
              "        </tr>\n",
              "        <tr>\n",
              "            <td>150.0</td>\n",
              "            <td>4</td>\n",
              "        </tr>\n",
              "        <tr>\n",
              "            <td>240.0</td>\n",
              "            <td>5</td>\n",
              "        </tr>\n",
              "        <tr>\n",
              "            <td>62.5</td>\n",
              "            <td>6</td>\n",
              "        </tr>\n",
              "    </tbody>\n",
              "</table>"
            ]
          },
          "metadata": {},
          "execution_count": 62
        }
      ]
    },
    {
      "cell_type": "markdown",
      "source": [
        "11) Select the average price of each manufacturer's products, showing the manufacturer's name."
      ],
      "metadata": {
        "id": "wUQBC1GO5PAx"
      }
    },
    {
      "cell_type": "code",
      "source": [
        "%%sql\n",
        "SELECT AVG(Price) as AvgPrice , M.Name as ManufacName\n",
        "FROM Products P , Manufacturers M\n",
        "WHERE M.Code = P.Manufacturer\n",
        "GROUP BY (Manufacturer)"
      ],
      "metadata": {
        "colab": {
          "base_uri": "https://localhost:8080/",
          "height": 200
        },
        "id": "c8VrBhDa5YoF",
        "outputId": "f140a31b-3ecb-4bd7-e98c-bbd490a541c3"
      },
      "execution_count": 82,
      "outputs": [
        {
          "output_type": "stream",
          "name": "stdout",
          "text": [
            " * sqlite:///test.db\n",
            "Done.\n"
          ]
        },
        {
          "output_type": "execute_result",
          "data": {
            "text/plain": [
              "[(240.0, 'Sony'),\n",
              " (150.0, 'Creative Labs'),\n",
              " (168.0, 'Hewlett-Packard'),\n",
              " (150.0, 'Iomega'),\n",
              " (240.0, 'Fujitsu'),\n",
              " (62.5, 'Winchester')]"
            ],
            "text/html": [
              "<table>\n",
              "    <thead>\n",
              "        <tr>\n",
              "            <th>AvgPrice</th>\n",
              "            <th>ManufacName</th>\n",
              "        </tr>\n",
              "    </thead>\n",
              "    <tbody>\n",
              "        <tr>\n",
              "            <td>240.0</td>\n",
              "            <td>Sony</td>\n",
              "        </tr>\n",
              "        <tr>\n",
              "            <td>150.0</td>\n",
              "            <td>Creative Labs</td>\n",
              "        </tr>\n",
              "        <tr>\n",
              "            <td>168.0</td>\n",
              "            <td>Hewlett-Packard</td>\n",
              "        </tr>\n",
              "        <tr>\n",
              "            <td>150.0</td>\n",
              "            <td>Iomega</td>\n",
              "        </tr>\n",
              "        <tr>\n",
              "            <td>240.0</td>\n",
              "            <td>Fujitsu</td>\n",
              "        </tr>\n",
              "        <tr>\n",
              "            <td>62.5</td>\n",
              "            <td>Winchester</td>\n",
              "        </tr>\n",
              "    </tbody>\n",
              "</table>"
            ]
          },
          "metadata": {},
          "execution_count": 82
        }
      ]
    },
    {
      "cell_type": "markdown",
      "source": [
        "12) Select the names of manufacturer whose products have an average price larger than or equal to $150."
      ],
      "metadata": {
        "id": "D9PINZm15SAO"
      }
    },
    {
      "cell_type": "code",
      "source": [
        "%%sql\n",
        "SELECT AVG(P.Price) as AvgPrice , M.Name as ManufacName\n",
        "FROM Products P , Manufacturers M\n",
        "WHERE (M.Code = P.Manufacturer)\n",
        "GROUP BY (Manufacturer)\n",
        "HAVING AVG(P.Price) >= 150\n",
        "-- HAVING USE AFTER GROUP ALREADY"
      ],
      "metadata": {
        "colab": {
          "base_uri": "https://localhost:8080/",
          "height": 179
        },
        "id": "0JRIlM8v5Y9F",
        "outputId": "8d7fef0a-a056-41a7-d60d-9dd1757fcc11"
      },
      "execution_count": 95,
      "outputs": [
        {
          "output_type": "stream",
          "name": "stdout",
          "text": [
            " * sqlite:///test.db\n",
            "Done.\n"
          ]
        },
        {
          "output_type": "execute_result",
          "data": {
            "text/plain": [
              "[(240.0, 'Sony'),\n",
              " (150.0, 'Creative Labs'),\n",
              " (168.0, 'Hewlett-Packard'),\n",
              " (150.0, 'Iomega'),\n",
              " (240.0, 'Fujitsu')]"
            ],
            "text/html": [
              "<table>\n",
              "    <thead>\n",
              "        <tr>\n",
              "            <th>AvgPrice</th>\n",
              "            <th>ManufacName</th>\n",
              "        </tr>\n",
              "    </thead>\n",
              "    <tbody>\n",
              "        <tr>\n",
              "            <td>240.0</td>\n",
              "            <td>Sony</td>\n",
              "        </tr>\n",
              "        <tr>\n",
              "            <td>150.0</td>\n",
              "            <td>Creative Labs</td>\n",
              "        </tr>\n",
              "        <tr>\n",
              "            <td>168.0</td>\n",
              "            <td>Hewlett-Packard</td>\n",
              "        </tr>\n",
              "        <tr>\n",
              "            <td>150.0</td>\n",
              "            <td>Iomega</td>\n",
              "        </tr>\n",
              "        <tr>\n",
              "            <td>240.0</td>\n",
              "            <td>Fujitsu</td>\n",
              "        </tr>\n",
              "    </tbody>\n",
              "</table>"
            ]
          },
          "metadata": {},
          "execution_count": 95
        }
      ]
    },
    {
      "cell_type": "markdown",
      "source": [
        "13) Select the name and price of the cheapest product."
      ],
      "metadata": {
        "id": "SsVqooE85TfK"
      }
    },
    {
      "cell_type": "code",
      "source": [
        "%%sql\n",
        "SELECT Name , MIN(Price) as MinPrice\n",
        "FROM Products"
      ],
      "metadata": {
        "colab": {
          "base_uri": "https://localhost:8080/",
          "height": 95
        },
        "id": "nAPov4oS1_aN",
        "outputId": "e3665ab8-c3e3-4545-f64d-d9c840d75892"
      },
      "execution_count": 103,
      "outputs": [
        {
          "output_type": "stream",
          "name": "stdout",
          "text": [
            " * sqlite:///test.db\n",
            "Done.\n"
          ]
        },
        {
          "output_type": "execute_result",
          "data": {
            "text/plain": [
              "[('Floppy disk', 5.0)]"
            ],
            "text/html": [
              "<table>\n",
              "    <thead>\n",
              "        <tr>\n",
              "            <th>Name</th>\n",
              "            <th>MinPrice</th>\n",
              "        </tr>\n",
              "    </thead>\n",
              "    <tbody>\n",
              "        <tr>\n",
              "            <td>Floppy disk</td>\n",
              "            <td>5.0</td>\n",
              "        </tr>\n",
              "    </tbody>\n",
              "</table>"
            ]
          },
          "metadata": {},
          "execution_count": 103
        }
      ]
    },
    {
      "cell_type": "markdown",
      "source": [
        "14) Select the name of each manufacturer along with the name and price of its most expensive product."
      ],
      "metadata": {
        "id": "B0UhBasA5U5n"
      }
    },
    {
      "cell_type": "code",
      "source": [
        "%%sql\n",
        "SELECT P.Name , MAX(P.Price) as MaxPrice , M.Name as ManufacName\n",
        "FROM Products P , Manufacturers M\n",
        "WHERE M.Code = P.Manufacturer\n",
        "GROUP BY (Manufacturer)"
      ],
      "metadata": {
        "colab": {
          "base_uri": "https://localhost:8080/",
          "height": 200
        },
        "id": "_uznASInW7B6",
        "outputId": "3802868b-5155-4a48-bad1-05104d515dad"
      },
      "execution_count": 115,
      "outputs": [
        {
          "output_type": "stream",
          "name": "stdout",
          "text": [
            " * sqlite:///test.db\n",
            "Done.\n"
          ]
        },
        {
          "output_type": "execute_result",
          "data": {
            "text/plain": [
              "[('Monitor', 240.0, 'Sony'),\n",
              " ('DVD drive', 180.0, 'Creative Labs'),\n",
              " ('Printer', 270.0, 'Hewlett-Packard'),\n",
              " ('ZIP drive', 150.0, 'Iomega'),\n",
              " ('Hard drive', 240.0, 'Fujitsu'),\n",
              " ('Memory', 120.0, 'Winchester')]"
            ],
            "text/html": [
              "<table>\n",
              "    <thead>\n",
              "        <tr>\n",
              "            <th>Name</th>\n",
              "            <th>MaxPrice</th>\n",
              "            <th>ManufacName</th>\n",
              "        </tr>\n",
              "    </thead>\n",
              "    <tbody>\n",
              "        <tr>\n",
              "            <td>Monitor</td>\n",
              "            <td>240.0</td>\n",
              "            <td>Sony</td>\n",
              "        </tr>\n",
              "        <tr>\n",
              "            <td>DVD drive</td>\n",
              "            <td>180.0</td>\n",
              "            <td>Creative Labs</td>\n",
              "        </tr>\n",
              "        <tr>\n",
              "            <td>Printer</td>\n",
              "            <td>270.0</td>\n",
              "            <td>Hewlett-Packard</td>\n",
              "        </tr>\n",
              "        <tr>\n",
              "            <td>ZIP drive</td>\n",
              "            <td>150.0</td>\n",
              "            <td>Iomega</td>\n",
              "        </tr>\n",
              "        <tr>\n",
              "            <td>Hard drive</td>\n",
              "            <td>240.0</td>\n",
              "            <td>Fujitsu</td>\n",
              "        </tr>\n",
              "        <tr>\n",
              "            <td>Memory</td>\n",
              "            <td>120.0</td>\n",
              "            <td>Winchester</td>\n",
              "        </tr>\n",
              "    </tbody>\n",
              "</table>"
            ]
          },
          "metadata": {},
          "execution_count": 115
        }
      ]
    },
    {
      "cell_type": "markdown",
      "source": [
        "15) Select the name of each manufacturer which have an average price above $145 and contain at least 2 different products."
      ],
      "metadata": {
        "id": "T5cCBfFw5Wlr"
      }
    },
    {
      "cell_type": "code",
      "source": [
        "%%sql\n",
        "SELECT M.Name as ManufacName , COUNT(M.Name) as CountProduct\n",
        "FROM Products P , Manufacturers M\n",
        "WHERE M.Code = P.Manufacturer\n",
        "GROUP BY (Manufacturer)\n",
        "HAVING AVG(P.Price) >= 145 AND (CountProduct >= 2)"
      ],
      "metadata": {
        "colab": {
          "base_uri": "https://localhost:8080/",
          "height": 116
        },
        "id": "KWDx9uTM5gGE",
        "outputId": "568222a6-add6-4d38-b561-a96223b812fe"
      },
      "execution_count": 120,
      "outputs": [
        {
          "output_type": "stream",
          "name": "stdout",
          "text": [
            " * sqlite:///test.db\n",
            "Done.\n"
          ]
        },
        {
          "output_type": "execute_result",
          "data": {
            "text/plain": [
              "[('Creative Labs', 3), ('Hewlett-Packard', 2)]"
            ],
            "text/html": [
              "<table>\n",
              "    <thead>\n",
              "        <tr>\n",
              "            <th>ManufacName</th>\n",
              "            <th>CountProduct</th>\n",
              "        </tr>\n",
              "    </thead>\n",
              "    <tbody>\n",
              "        <tr>\n",
              "            <td>Creative Labs</td>\n",
              "            <td>3</td>\n",
              "        </tr>\n",
              "        <tr>\n",
              "            <td>Hewlett-Packard</td>\n",
              "            <td>2</td>\n",
              "        </tr>\n",
              "    </tbody>\n",
              "</table>"
            ]
          },
          "metadata": {},
          "execution_count": 120
        }
      ]
    }
  ]
}